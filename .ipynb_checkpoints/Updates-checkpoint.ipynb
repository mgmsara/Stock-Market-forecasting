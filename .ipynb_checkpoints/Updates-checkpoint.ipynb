{
 "cells": [
  {
   "cell_type": "code",
   "execution_count": 1,
   "id": "f936c4fb",
   "metadata": {},
   "outputs": [
    {
     "name": "stdout",
     "output_type": "stream",
     "text": [
      "Requirement already satisfied: textblob in /Users/saori/opt/anaconda3/lib/python3.9/site-packages (0.17.1)\n",
      "Requirement already satisfied: nltk>=3.1 in /Users/saori/opt/anaconda3/lib/python3.9/site-packages (from textblob) (3.7)\n",
      "Requirement already satisfied: tqdm in /Users/saori/opt/anaconda3/lib/python3.9/site-packages (from nltk>=3.1->textblob) (4.64.0)\n",
      "Requirement already satisfied: regex>=2021.8.3 in /Users/saori/opt/anaconda3/lib/python3.9/site-packages (from nltk>=3.1->textblob) (2022.3.15)\n",
      "Requirement already satisfied: joblib in /Users/saori/opt/anaconda3/lib/python3.9/site-packages (from nltk>=3.1->textblob) (1.1.0)\n",
      "Requirement already satisfied: click in /Users/saori/opt/anaconda3/lib/python3.9/site-packages (from nltk>=3.1->textblob) (8.0.4)\n",
      "Note: you may need to restart the kernel to use updated packages.\n"
     ]
    }
   ],
   "source": [
    "pip install textblob"
   ]
  },
  {
   "cell_type": "code",
   "execution_count": 2,
   "id": "5c3f34bc",
   "metadata": {},
   "outputs": [
    {
     "name": "stdout",
     "output_type": "stream",
     "text": [
      "Requirement already satisfied: tweepy in /Users/saori/opt/anaconda3/lib/python3.9/site-packages (4.12.1)\n",
      "Requirement already satisfied: requests-oauthlib<2,>=1.2.0 in /Users/saori/opt/anaconda3/lib/python3.9/site-packages (from tweepy) (1.3.1)\n",
      "Requirement already satisfied: requests<3,>=2.27.0 in /Users/saori/opt/anaconda3/lib/python3.9/site-packages (from tweepy) (2.27.1)\n",
      "Requirement already satisfied: oauthlib<4,>=3.2.0 in /Users/saori/opt/anaconda3/lib/python3.9/site-packages (from tweepy) (3.2.2)\n",
      "Requirement already satisfied: certifi>=2017.4.17 in /Users/saori/opt/anaconda3/lib/python3.9/site-packages (from requests<3,>=2.27.0->tweepy) (2021.10.8)\n",
      "Requirement already satisfied: urllib3<1.27,>=1.21.1 in /Users/saori/opt/anaconda3/lib/python3.9/site-packages (from requests<3,>=2.27.0->tweepy) (1.26.9)\n",
      "Requirement already satisfied: idna<4,>=2.5 in /Users/saori/opt/anaconda3/lib/python3.9/site-packages (from requests<3,>=2.27.0->tweepy) (3.3)\n",
      "Requirement already satisfied: charset-normalizer~=2.0.0 in /Users/saori/opt/anaconda3/lib/python3.9/site-packages (from requests<3,>=2.27.0->tweepy) (2.0.4)\n",
      "Note: you may need to restart the kernel to use updated packages.\n"
     ]
    }
   ],
   "source": [
    "pip install tweepy"
   ]
  },
  {
   "cell_type": "code",
   "execution_count": 3,
   "id": "d2efef10",
   "metadata": {},
   "outputs": [
    {
     "name": "stdout",
     "output_type": "stream",
     "text": [
      "Requirement already satisfied: pycountry in /Users/saori/opt/anaconda3/lib/python3.9/site-packages (22.3.5)\n",
      "Requirement already satisfied: setuptools in /Users/saori/opt/anaconda3/lib/python3.9/site-packages (from pycountry) (61.2.0)\n",
      "Note: you may need to restart the kernel to use updated packages.\n"
     ]
    }
   ],
   "source": [
    "pip install pycountry"
   ]
  },
  {
   "cell_type": "code",
   "execution_count": 4,
   "id": "ac580dda",
   "metadata": {},
   "outputs": [
    {
     "name": "stdout",
     "output_type": "stream",
     "text": [
      "Requirement already satisfied: langdetect in /Users/saori/opt/anaconda3/lib/python3.9/site-packages (1.0.9)\n",
      "Requirement already satisfied: six in /Users/saori/opt/anaconda3/lib/python3.9/site-packages (from langdetect) (1.16.0)\n",
      "Note: you may need to restart the kernel to use updated packages.\n"
     ]
    }
   ],
   "source": [
    "pip install langdetect"
   ]
  },
  {
   "cell_type": "code",
   "execution_count": 5,
   "id": "6e37aece",
   "metadata": {},
   "outputs": [
    {
     "name": "stdout",
     "output_type": "stream",
     "text": [
      "Requirement already satisfied: searchtweets in /Users/saori/opt/anaconda3/lib/python3.9/site-packages (1.7.6)\n",
      "Requirement already satisfied: tweet-parser in /Users/saori/opt/anaconda3/lib/python3.9/site-packages (from searchtweets) (1.13.2)\n",
      "Requirement already satisfied: pyyaml in /Users/saori/opt/anaconda3/lib/python3.9/site-packages (from searchtweets) (6.0)\n",
      "Requirement already satisfied: requests in /Users/saori/opt/anaconda3/lib/python3.9/site-packages (from searchtweets) (2.27.1)\n",
      "Requirement already satisfied: certifi>=2017.4.17 in /Users/saori/opt/anaconda3/lib/python3.9/site-packages (from requests->searchtweets) (2021.10.8)\n",
      "Requirement already satisfied: charset-normalizer~=2.0.0 in /Users/saori/opt/anaconda3/lib/python3.9/site-packages (from requests->searchtweets) (2.0.4)\n",
      "Requirement already satisfied: urllib3<1.27,>=1.21.1 in /Users/saori/opt/anaconda3/lib/python3.9/site-packages (from requests->searchtweets) (1.26.9)\n",
      "Requirement already satisfied: idna<4,>=2.5 in /Users/saori/opt/anaconda3/lib/python3.9/site-packages (from requests->searchtweets) (3.3)\n",
      "Note: you may need to restart the kernel to use updated packages.\n"
     ]
    }
   ],
   "source": [
    "pip install searchtweets\n"
   ]
  },
  {
   "cell_type": "code",
   "execution_count": 6,
   "id": "f09811cb",
   "metadata": {},
   "outputs": [
    {
     "name": "stdout",
     "output_type": "stream",
     "text": [
      "Requirement already satisfied: matplotlib in /Users/saori/opt/anaconda3/lib/python3.9/site-packages (3.5.1)\n",
      "Requirement already satisfied: kiwisolver>=1.0.1 in /Users/saori/opt/anaconda3/lib/python3.9/site-packages (from matplotlib) (1.3.2)\n",
      "Requirement already satisfied: fonttools>=4.22.0 in /Users/saori/opt/anaconda3/lib/python3.9/site-packages (from matplotlib) (4.25.0)\n",
      "Requirement already satisfied: pyparsing>=2.2.1 in /Users/saori/opt/anaconda3/lib/python3.9/site-packages (from matplotlib) (3.0.4)\n",
      "Requirement already satisfied: packaging>=20.0 in /Users/saori/opt/anaconda3/lib/python3.9/site-packages (from matplotlib) (21.3)\n",
      "Requirement already satisfied: python-dateutil>=2.7 in /Users/saori/opt/anaconda3/lib/python3.9/site-packages (from matplotlib) (2.8.2)\n",
      "Requirement already satisfied: numpy>=1.17 in /Users/saori/opt/anaconda3/lib/python3.9/site-packages (from matplotlib) (1.21.5)\n",
      "Requirement already satisfied: cycler>=0.10 in /Users/saori/opt/anaconda3/lib/python3.9/site-packages (from matplotlib) (0.11.0)\n",
      "Requirement already satisfied: pillow>=6.2.0 in /Users/saori/opt/anaconda3/lib/python3.9/site-packages (from matplotlib) (9.0.1)\n",
      "Requirement already satisfied: six>=1.5 in /Users/saori/opt/anaconda3/lib/python3.9/site-packages (from python-dateutil>=2.7->matplotlib) (1.16.0)\n",
      "Note: you may need to restart the kernel to use updated packages.\n"
     ]
    }
   ],
   "source": [
    "pip install matplotlib\n"
   ]
  },
  {
   "cell_type": "code",
   "execution_count": 7,
   "id": "0e55bca0",
   "metadata": {},
   "outputs": [],
   "source": [
    "from textblob import TextBlob\n",
    "import sys\n",
    "import tweepy\n",
    "import matplotlib.pyplot as plt\n",
    "import pandas as pd\n",
    "import numpy as np\n",
    "import os\n",
    "import nltk\n",
    "import pycountry\n",
    "import re\n",
    "import string\n",
    "\n",
    "from wordcloud import WordCloud, STOPWORDS\n",
    "from PIL import Image\n",
    "from nltk.sentiment.vader import SentimentIntensityAnalyzer\n",
    "from langdetect import detect\n",
    "from nltk.stem import SnowballStemmer\n",
    "from sklearn.feature_extraction.text import CountVectorizer\n"
   ]
  },
  {
   "cell_type": "code",
   "execution_count": 8,
   "id": "e6c580e6",
   "metadata": {},
   "outputs": [],
   "source": [
    "api_key = 'vcCmOETCASdUd0CpAdCtAT1H7'\n",
    "\n",
    "api_secret = '8KEdeRxbIiQdRzC5oQFpJreC6b87I3LN2Sq6cwLXlkBB1aEGTw'\n",
    "\n",
    "bearer_token = 'AAAAAAAAAAAAAAAAAAAAAKnFRAEAAAAA0WTW5LZ0FZm0YaTCHQpjYW2BzmI%3DAis5txxF8CKfT5UfsbcG9UznM61bmjCuN6FqlZwqJIjycjw9Hl'\n",
    "\n",
    "access_token = '1410231389220376584-B2PrnZFEXKU6coWb3AEWGPODV4YJ9F'\n",
    "\n",
    "access_token_secret = 'PPwZ8sh80xzCPochgHytGCzk3USP2RQkmUeRPqq2LqiHR'\n",
    "\n",
    "auth = tweepy.OAuthHandler(api_key, api_secret)\n",
    "auth.set_access_token(access_token, access_token_secret)\n",
    "api = tweepy.API(auth)"
   ]
  },
  {
   "cell_type": "markdown",
   "id": "ce65dab3",
   "metadata": {},
   "source": [
    "About scoring: https://github.com/cjhutto/vaderSentiment#about-the-scoring"
   ]
  },
  {
   "cell_type": "markdown",
   "id": "e9c9451f",
   "metadata": {},
   "source": [
    "### TEST FUNCTION  ⚠️ \n"
   ]
  },
  {
   "cell_type": "markdown",
   "id": "09f3c593",
   "metadata": {},
   "source": [
    "#Sentiment Analysis example with TEXT BLOB AND SENTIMENT INTENSE ANALAYSER. Wich one is better?\n",
    "\n",
    "\n",
    "def percentage(part,whole):\n",
    "    return 100 * float(part)/float(whole) \n",
    "\n",
    "keyword = 'tesla'\n",
    "noOfTweet = 1\n",
    "\n",
    "\n",
    "tweets = tweepy.Cursor(api.search_tweets, q=keyword).items(noOfTweet)\n",
    "positive  = 0\n",
    "negative = 0\n",
    "neutral = 0\n",
    "polarity = 0\n",
    "tweet_list = []\n",
    "neutral_list = []\n",
    "negative_list = []\n",
    "positive_list = []\n",
    "\n",
    "rows = []\n",
    "\n",
    "for tweet in tweets:\n",
    "\n",
    "    row = {}\n",
    "    row['text'] = tweet.text\n",
    "    row['date'] = tweet.created_at\n",
    "    row['id'] = tweet.id\n",
    "    row['location'] = tweet.user.location\n",
    "    \n",
    "    \n",
    "    #print(tweet.text)\n",
    "    tweet_list.append(tweet.text)\n",
    "    analysis = TextBlob(tweet.text)\n",
    "    \n",
    "    row['polarity'] = analysis.sentiment.polarity\n",
    "    row['subjectivity'] = analysis.sentiment.subjectivity\n",
    "    print(tweet.text)\n",
    "    print('TextBlob numbers: ', analysis.sentiment)\n",
    "    \n",
    "    score = SentimentIntensityAnalyzer().polarity_scores(tweet.text)\n",
    "    neg = score['neg']\n",
    "    neu = score['neu']\n",
    "    pos = score['pos']\n",
    "    comp = score['compound']\n",
    "\n",
    "    print('SentimentIntensityAnalyzer numbers:', score)\n",
    "    break\n",
    "    rows.append(row)\n",
    "\n",
    "print(rows)\n",
    "            \n"
   ]
  },
  {
   "cell_type": "code",
   "execution_count": 50,
   "id": "0cc6626d",
   "metadata": {},
   "outputs": [
    {
     "name": "stdout",
     "output_type": "stream",
     "text": [
      "[{'text': 'RT @SoleilChaud6: جانب من الجمهور المغربي وهو يجمع النفايات من مدرجات الملعب ..حقا وراء هذا المنتخب العضيم جمهور اعضم🇲🇦🇲🇦💐 https://t.co/Ppu…', 'date': datetime.datetime(2022, 12, 11, 20, 8, 40, tzinfo=datetime.timezone.utc), 'id': 1602032639283789824, 'location': 'Royaume du Maroc', 'compound': 0.0}]\n"
     ]
    }
   ],
   "source": [
    "#Sentiment Analysis with SentimentIntensityAnalyzer()\n",
    "\n",
    "\n",
    "keyword = 'tesla'\n",
    "noOfTweet = 1\n",
    "\n",
    "\n",
    "tweets = tweepy.Cursor(api.search_tweets, q=keyword).items(noOfTweet)\n",
    "rows = []\n",
    "\n",
    "for tweet in tweets:\n",
    "    row = {}\n",
    "    row['text'] = tweet.text\n",
    "    row['date'] = tweet.created_at\n",
    "    row['id'] = tweet.id\n",
    "    row['location'] = tweet.user.location\n",
    "    \n",
    "    score = SentimentIntensityAnalyzer().polarity_scores(tweet.text)\n",
    "    row['compound'] = score['compound']\n",
    "    \n",
    "    rows.append(row)\n",
    "\n",
    "print(rows)\n",
    "            \n"
   ]
  },
  {
   "cell_type": "code",
   "execution_count": 51,
   "id": "780be0cc",
   "metadata": {},
   "outputs": [
    {
     "data": {
      "text/html": [
       "<div>\n",
       "<style scoped>\n",
       "    .dataframe tbody tr th:only-of-type {\n",
       "        vertical-align: middle;\n",
       "    }\n",
       "\n",
       "    .dataframe tbody tr th {\n",
       "        vertical-align: top;\n",
       "    }\n",
       "\n",
       "    .dataframe thead th {\n",
       "        text-align: right;\n",
       "    }\n",
       "</style>\n",
       "<table border=\"1\" class=\"dataframe\">\n",
       "  <thead>\n",
       "    <tr style=\"text-align: right;\">\n",
       "      <th></th>\n",
       "      <th>text</th>\n",
       "      <th>date</th>\n",
       "      <th>id</th>\n",
       "      <th>location</th>\n",
       "      <th>compound</th>\n",
       "    </tr>\n",
       "  </thead>\n",
       "  <tbody>\n",
       "    <tr>\n",
       "      <th>0</th>\n",
       "      <td>RT @SoleilChaud6: جانب من الجمهور المغربي وهو ...</td>\n",
       "      <td>2022-12-11 20:08:40+00:00</td>\n",
       "      <td>1602032639283789824</td>\n",
       "      <td>Royaume du Maroc</td>\n",
       "      <td>0.0</td>\n",
       "    </tr>\n",
       "  </tbody>\n",
       "</table>\n",
       "</div>"
      ],
      "text/plain": [
       "                                                text  \\\n",
       "0  RT @SoleilChaud6: جانب من الجمهور المغربي وهو ...   \n",
       "\n",
       "                       date                   id          location  compound  \n",
       "0 2022-12-11 20:08:40+00:00  1602032639283789824  Royaume du Maroc       0.0  "
      ]
     },
     "execution_count": 51,
     "metadata": {},
     "output_type": "execute_result"
    }
   ],
   "source": [
    "new_df = pd.DataFrame(rows)\n",
    "new_df"
   ]
  },
  {
   "cell_type": "markdown",
   "id": "cba850a9",
   "metadata": {},
   "source": [
    "### Savind the DATA FRAME"
   ]
  },
  {
   "cell_type": "code",
   "execution_count": 46,
   "id": "2e8eb668",
   "metadata": {},
   "outputs": [],
   "source": [
    "tesla_tweets = rows"
   ]
  },
  {
   "cell_type": "code",
   "execution_count": 47,
   "id": "97448d3c",
   "metadata": {},
   "outputs": [
    {
     "data": {
      "text/plain": [
       "[{'text': 'I remember when the first iphones came out. Super expensive and folks used them as status symbols but now everyone… https://t.co/LYj66Dohip',\n",
       "  'date': datetime.datetime(2022, 12, 11, 20, 4, 29, tzinfo=datetime.timezone.utc),\n",
       "  'id': 1602031589042495489,\n",
       "  'location': '',\n",
       "  'compound': 0.3506}]"
      ]
     },
     "execution_count": 47,
     "metadata": {},
     "output_type": "execute_result"
    }
   ],
   "source": [
    "tesla_tweets"
   ]
  },
  {
   "cell_type": "code",
   "execution_count": null,
   "id": "c5b0ab3a",
   "metadata": {},
   "outputs": [],
   "source": [
    "#tesla_tweets.to_csv('tesla_tweets.csv')"
   ]
  }
 ],
 "metadata": {
  "kernelspec": {
   "display_name": "Python 3 (ipykernel)",
   "language": "python",
   "name": "python3"
  },
  "language_info": {
   "codemirror_mode": {
    "name": "ipython",
    "version": 3
   },
   "file_extension": ".py",
   "mimetype": "text/x-python",
   "name": "python",
   "nbconvert_exporter": "python",
   "pygments_lexer": "ipython3",
   "version": "3.9.12"
  }
 },
 "nbformat": 4,
 "nbformat_minor": 5
}
